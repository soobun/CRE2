{
 "cells": [
  {
   "cell_type": "markdown",
   "metadata": {},
   "source": [
    "实践2 Python基本语法  \n",
    "学习目标 \n",
    "1.值具有类型，了解值的类型很重要；  \n",
    "2.理解变量是值的抽象，可以帮助我们处理用户输入的任何值；  \n",
    "3.掌握赋值语句，赋值语句是值与变量、变量与变量之间的桥梁。  \n",
    "4.掌握基本运算，操作符是对数据进行操作的一些符号，最常用的有算术运算、大小比较、赋值、逻辑运算等；  \n",
    "5.了解代码注释的语法和意义；  \n",
    "6.了解浮点表示误差和规避方法； \n",
    "7.了解 Python 中字符串的表示方法以及转义符；\n",
    "8.了解如何使用 f-string；\n",
    "9.掌握输入输出语句，输入输出语句提供了程序与用户的交互渠道，程序可以根据用户的输入，输出对应的结果。"
   ]
  },
  {
   "cell_type": "markdown",
   "metadata": {},
   "source": [
    "# Python基本语法"
   ]
  },
  {
   "cell_type": "markdown",
   "metadata": {},
   "source": [
    "## 1.关键字\n",
    "在Python中，具有特殊功能的标识符称为关键字。Python的关键字随版本不同有一些差异，可以在Python 交互方式中按如下所示的方法查阅。"
   ]
  },
  {
   "cell_type": "code",
   "execution_count": null,
   "metadata": {},
   "outputs": [],
   "source": [
    "import keyword\n",
    "keyword.kwlist"
   ]
  },
  {
   "cell_type": "code",
   "execution_count": 38,
   "metadata": {},
   "outputs": [
    {
     "name": "stdout",
     "output_type": "stream",
     "text": [
      "\n",
      "You are now leaving help and returning to the Python interpreter.\n",
      "If you want to ask for help on a particular object directly from the\n",
      "interpreter, you can type \"help(object)\".  Executing \"help('string')\"\n",
      "has the same effect as typing a particular string at the help> prompt.\n"
     ]
    }
   ],
   "source": [
    "help()"
   ]
  },
  {
   "cell_type": "markdown",
   "metadata": {},
   "source": [
    "## 2. 常量和变量  \n",
    "数据是计算机处理的对象，在计算机中存储和处理数据，是区分数据类型的，不同的数据类型的表示方式和运算机制都是不同的。      \n",
    "数据在程序里的存在有两种形式，一种是“值（value）”，一种是“变量（variable）”。按接近人的习惯设计并加以不同数据类型的区别，称为数据的“值（value）”，是数据的“书写形式”。这些数据是不会改变的，也称为常量。    \n",
    "\n",
    "下面是一些值的例子：  \n",
    "\n",
    "```python\n",
    "42\n",
    "3.14\n",
    "'a'\n",
    "'abracadabra'\n",
    "True\n",
    "False\n",
    "```\n",
    "\n",
    "值是有类型的，Python 提供了一个函数叫做 `type()`，可以告诉我们某个值是什么类型，我们可以试一下：  "
   ]
  },
  {
   "cell_type": "code",
   "execution_count": 39,
   "metadata": {},
   "outputs": [],
   "source": [
    "type(1)"
   ]
  },
  {
   "cell_type": "code",
   "execution_count": 40,
   "metadata": {},
   "outputs": [],
   "source": [
    "type(1.0)"
   ]
  },
  {
   "cell_type": "code",
   "execution_count": 41,
   "metadata": {},
   "outputs": [],
   "source": [
    "type(2+5j)"
   ]
  },
  {
   "cell_type": "code",
   "execution_count": null,
   "metadata": {},
   "outputs": [],
   "source": [
    "type(True)"
   ]
  },
  {
   "cell_type": "code",
   "execution_count": null,
   "metadata": {},
   "outputs": [],
   "source": [
    "type(\"Python\")"
   ]
  },
  {
   "cell_type": "code",
   "execution_count": null,
   "metadata": {},
   "outputs": [],
   "source": [
    "type([1,2,3,4,5])"
   ]
  },
  {
   "cell_type": "code",
   "execution_count": null,
   "metadata": {},
   "outputs": [],
   "source": [
    "type((1,2,3,4,5))"
   ]
  },
  {
   "cell_type": "code",
   "execution_count": null,
   "metadata": {},
   "outputs": [],
   "source": [
    "type({1,2,2,3,4})"
   ]
  },
  {
   "cell_type": "code",
   "execution_count": null,
   "metadata": {},
   "outputs": [],
   "source": [
    "type({\"a\":94,\"c\":96,\"A\":65,\"C\":67})"
   ]
  },
  {
   "cell_type": "markdown",
   "metadata": {},
   "source": [
    "有了值，我们就可以做计算，但是写不出真正的程序，为什么呢？因为程序写出来是希望能被很多人反复使用的——这些人叫做用户（user）——这样才比较划算，每次使用，用户输入一些数据，程序进行处理，然后给出用户想要的结果，每次的输入可能是同一类型，但具体的值是多少在我们写程序时是不知道的，所以我们需要一种东西能够来代替值写在程序中，而在程序运行时这些东西才根据用户的输入变成实际的“值”，这些“东西”就是变量。  \n",
    "\n",
    "变量使得我们可以编写一个程序来处理一类值，而不管具体值是多少。我们学习代数的时候用 a + b = b + a 就表达了“加法交换律”这样高度抽象的普适规律，而不管 a 和 b 到底是多少，程序里的变量也一样，让我们能够进行“数据的抽象”，这个概念很重要，后面我们还会不断深化它。  \n",
    "\n",
    "所有编程语言都支持值和变量，也支持把特定的值赋予某个变量，这样的操作叫做“赋值（assignment）”，下面是一些例子：  "
   ]
  },
  {
   "cell_type": "code",
   "execution_count": null,
   "metadata": {},
   "outputs": [],
   "source": [
    "a = 12\n",
    "b = 30\n",
    "f = 3.14\n",
    "s = 'abracadabra'\n",
    "l = [1, 2, 3]\n",
    "t = True\n",
    "f = False"
   ]
  },
  {
   "cell_type": "markdown",
   "metadata": {},
   "source": [
    "赋值之后变量就具有了相应的值，**同时也具有了该值对应的类型和对象ID**，所以变量一经赋值就有了类型和对象ID：  "
   ]
  },
  {
   "cell_type": "code",
   "execution_count": null,
   "metadata": {},
   "outputs": [],
   "source": [
    "s"
   ]
  },
  {
   "cell_type": "code",
   "execution_count": null,
   "metadata": {},
   "outputs": [],
   "source": [
    "id(s)"
   ]
  },
  {
   "cell_type": "code",
   "execution_count": null,
   "metadata": {},
   "outputs": [],
   "source": [
    "type(s)"
   ]
  },
  {
   "cell_type": "markdown",
   "metadata": {},
   "source": [
    "如果我们想消灭一个变量不再使用，可以用 del 命令："
   ]
  },
  {
   "cell_type": "code",
   "execution_count": null,
   "metadata": {},
   "outputs": [],
   "source": [
    "del s\n",
    "s"
   ]
  },
  {
   "cell_type": "markdown",
   "metadata": {},
   "source": [
    "## 3.可变对象和不可变对象\n",
    "Python3的对象可以分为不可变对象（immutable）和可变对象（mutable）。不可变对象，一旦创建其值就不能被改变，可变对象的值可以被修改。\n",
    "Python大部分对象都是不可变对象，例如int、float、str、tuple等。变量是指向某个对象的引用，多个变量可以指向同一个对象，给变量重新赋值，并不改变原始对象的值，只是创建一个新对象，该变量指向新的对象。\n",
    "\n"
   ]
  },
  {
   "cell_type": "code",
   "execution_count": null,
   "metadata": {},
   "outputs": [],
   "source": [
    "s=\"Python\"\n",
    "s[0]='p'"
   ]
  },
  {
   "cell_type": "code",
   "execution_count": null,
   "metadata": {},
   "outputs": [],
   "source": [
    "s=\"python\"\n",
    "s"
   ]
  },
  {
   "cell_type": "markdown",
   "metadata": {},
   "source": [
    "对象本身的值可以改变的对象称为可变对象，例如list、dict、set等。"
   ]
  },
  {
   "cell_type": "code",
   "execution_count": null,
   "metadata": {},
   "outputs": [],
   "source": [
    "l"
   ]
  },
  {
   "cell_type": "code",
   "execution_count": null,
   "metadata": {},
   "outputs": [],
   "source": [
    "l[0]=10\n",
    "l"
   ]
  },
  {
   "cell_type": "markdown",
   "metadata": {},
   "source": [
    "## 4.运算符与表达式\n",
    "Python语言提供了丰富的运算符，例如算术运算符、关系运算符、逻辑运算符等。  \n",
    "表达式是数据对象和运算符按照一定的规则写出的式子，描述计算过程。与上述运算符对应的表达式可以分为算术表达式、关系表达式、逻辑表达式等。  \n"
   ]
  },
  {
   "cell_type": "markdown",
   "metadata": {},
   "source": [
    "### （1）算术操作符\n",
    "算术操作符就是加减乘除之类的，专门针对整数和小数。"
   ]
  },
  {
   "cell_type": "markdown",
   "metadata": {},
   "source": [
    "相同类型运算"
   ]
  },
  {
   "cell_type": "code",
   "execution_count": null,
   "metadata": {},
   "outputs": [],
   "source": [
    "a = 6\n",
    "b = 30\n",
    "f = 3.14\n",
    "g = 0.7"
   ]
  },
  {
   "cell_type": "code",
   "execution_count": null,
   "metadata": {},
   "outputs": [],
   "source": [
    "a + b"
   ]
  },
  {
   "cell_type": "code",
   "execution_count": null,
   "metadata": {},
   "outputs": [],
   "source": [
    "a - b"
   ]
  },
  {
   "cell_type": "code",
   "execution_count": null,
   "metadata": {},
   "outputs": [],
   "source": [
    "a * b"
   ]
  },
  {
   "cell_type": "code",
   "execution_count": null,
   "metadata": {},
   "outputs": [],
   "source": [
    "#除法，int/int=>float\n",
    "b / a"
   ]
  },
  {
   "cell_type": "code",
   "execution_count": null,
   "metadata": {},
   "outputs": [],
   "source": [
    "#整除，int//int=>int\n",
    "b // a"
   ]
  },
  {
   "cell_type": "code",
   "execution_count": null,
   "metadata": {},
   "outputs": [],
   "source": [
    "#幂运算\n",
    "a**2"
   ]
  },
  {
   "cell_type": "code",
   "execution_count": null,
   "metadata": {},
   "outputs": [],
   "source": [
    "#求余数\n",
    "a%4"
   ]
  },
  {
   "cell_type": "markdown",
   "metadata": {},
   "source": [
    "混合运算"
   ]
  },
  {
   "cell_type": "code",
   "execution_count": null,
   "metadata": {},
   "outputs": [],
   "source": [
    "# int*float  =>float\n",
    "a * g"
   ]
  },
  {
   "cell_type": "code",
   "execution_count": null,
   "metadata": {},
   "outputs": [],
   "source": [
    "#幂可以是小数，下例相当于求根号2\n",
    "a ** 0.5"
   ]
  },
  {
   "cell_type": "markdown",
   "metadata": {},
   "source": [
    "输入以下表达式并查看结果。  \n",
    "①23+3 ②23>3 ③'23'+'3' ④23/3 ⑤ 23//3⑥23%3⑦23**3     \n",
    "问题：  \n",
    "表达式结果为整数类型有哪些？    \n",
    "表达式结果为浮点数类型有哪些？  \n",
    "表达式结果为字符串类型有哪些？                                   \n"
   ]
  },
  {
   "cell_type": "markdown",
   "metadata": {},
   "source": [
    "### （2）关系运算符  \n",
    "比较大小的一组操作符，`> < >= <= == !=` 分别是大于、小于、大于或等于、小于或等于、等于和不等于关系。这几个操作符比较它左右的数据的大小关系，如果符合操作符的含义就返回布尔值真（`True`），否则返回布尔值（`False`）。在 Python 里这些操作符不仅可以比较数字，还可以比较其他很多类型的数据，下面有一些简单的例子。"
   ]
  },
  {
   "cell_type": "code",
   "execution_count": null,
   "metadata": {},
   "outputs": [],
   "source": [
    "a < b"
   ]
  },
  {
   "cell_type": "code",
   "execution_count": null,
   "metadata": {},
   "outputs": [],
   "source": [
    "a >= a"
   ]
  },
  {
   "cell_type": "code",
   "execution_count": null,
   "metadata": {},
   "outputs": [],
   "source": [
    "a <= f"
   ]
  },
  {
   "cell_type": "code",
   "execution_count": null,
   "metadata": {},
   "outputs": [],
   "source": [
    "a + b == 36"
   ]
  },
  {
   "cell_type": "code",
   "execution_count": null,
   "metadata": {},
   "outputs": [],
   "source": [
    "a + b != 36"
   ]
  },
  {
   "cell_type": "code",
   "execution_count": null,
   "metadata": {},
   "outputs": [],
   "source": [
    "'aaa' < 'aab'"
   ]
  },
  {
   "cell_type": "code",
   "execution_count": null,
   "metadata": {},
   "outputs": [],
   "source": [
    "a * g == 4.2"
   ]
  },
  {
   "cell_type": "markdown",
   "metadata": {},
   "source": [
    "上面的比较有没有什么问题？前面都没啥，但是注意最后一个，a 的值是 6，而 g 的值是 0.7，他们乘起来就是 4.2 啊，为啥最后一个比较返回是 `False` 呢？我们来看看计算机算出来的 `a * g` 是多少："
   ]
  },
  {
   "cell_type": "code",
   "execution_count": null,
   "metadata": {},
   "outputs": [],
   "source": [
    "a * g"
   ]
  },
  {
   "cell_type": "markdown",
   "metadata": {},
   "source": [
    "这是什么鬼啊？不要惊慌，这叫浮点误差，下面来简单解释下"
   ]
  },
  {
   "cell_type": "markdown",
   "metadata": {},
   "source": [
    "### 插播：浮点误差"
   ]
  },
  {
   "cell_type": "markdown",
   "metadata": {},
   "source": [
    "目前我们用的计算机叫“电子计算机”，用电平的高低表示数，电平高的是 1，低的是 0，只有这两种状态，也就是说计算机只认识 0 和 1。要用 0 和 1 表示我们要用到的各种数字，就要采用[二进制](https://zh.wikipedia.org/zh-cn/%E4%BA%8C%E8%BF%9B%E5%88%B6)计数法。\n",
    "\n",
    "二进制计数法对于整数来说没啥问题，每一个十进制整数都对应唯一的二进制表示，但对于小数来说问题就来了，**绝大部分十进制小数是没法用有限位数表示为二进制小数的**，如果想知道为什么，可以看看[这篇文章](https://www.taowong.com/blog/2018/07/10/principle-of-computer-float-num.html)，如果看不明白也没关系，反正记住这个结论就行了。这个结论决定了在计算机里小数是以一种“近似值”的方式表示的，0.7 在计算机里是个近似等于 0.7 的二进制小数，这个小数乘上 6 之后的结果也是有微小的误差的，转换回十进制小数给我们看结果时就会出现上面那样的奇怪现象。"
   ]
  },
  {
   "cell_type": "markdown",
   "metadata": {},
   "source": [
    "那么我们怎么解决这个问题呢？分两种情况：\n",
    "1. 如果需要绝对精确的结果，那么不要用小数，只用整数进行运算，然后自己计算小数点的位置，绝大部分计算器就是这么做的；\n",
    "2. 如果不需要绝对精确，那么只要结果的误差足够小就可以了，这时候可以用浮点数进行运算，但比较时不要直接比较结果是不是相等（`==`），而用误差范围来比较："
   ]
  },
  {
   "cell_type": "code",
   "execution_count": null,
   "metadata": {},
   "outputs": [],
   "source": [
    "s = 4.2 # 这是预期结果\n",
    "r = 0.001 # 这是可容忍误差\n",
    "\n",
    "abs(a * g - s) < r # 如果 (a * g - s) 的绝对值比 r 小，就算结果合格\n"
   ]
  },
  {
   "cell_type": "markdown",
   "metadata": {},
   "source": [
    "`abs` 函数的值等于后面括号里的值的绝对值。"
   ]
  },
  {
   "cell_type": "markdown",
   "metadata": {},
   "source": [
    "###  （3）逻辑运算操作符  \n",
    "逻辑运算操作符是布尔值之间的运算，结果也是布尔值。我们知道布尔值是逻辑上的真和假，而逻辑运算操作符就对应了逻辑代数（也叫布尔代数）里的各种运算。\n"
   ]
  },
  {
   "cell_type": "markdown",
   "metadata": {},
   "source": [
    "基本的逻辑运算就三个：`and`、`or`、`not`，即 **与**、**或**、**否**。\n",
    "* 两个布尔值如果都是“真”，他们的 **与** 运算结果也为“真”，其他情况下结果都是“假”；\n",
    "* 两个布尔值中只要有一个是“真”，他们的 **或** 运算结果就为“真”，如果两个都是“假”，那么 **或** 运算结果为“假”；\n",
    "* 布尔值“真”的 **否** 运算结果为“假”，布尔值“假”的 **否** 运算结果为“真”。\n",
    "\n",
    "通过这三个操作符我们可以组合复杂的逻辑运算："
   ]
  },
  {
   "cell_type": "code",
   "execution_count": null,
   "metadata": {},
   "outputs": [],
   "source": [
    "t = True\n",
    "f = False"
   ]
  },
  {
   "cell_type": "code",
   "execution_count": null,
   "metadata": {},
   "outputs": [],
   "source": [
    "t and f"
   ]
  },
  {
   "cell_type": "code",
   "execution_count": null,
   "metadata": {},
   "outputs": [],
   "source": [
    "t or f"
   ]
  },
  {
   "cell_type": "code",
   "execution_count": null,
   "metadata": {},
   "outputs": [],
   "source": [
    "not t"
   ]
  },
  {
   "cell_type": "code",
   "execution_count": null,
   "metadata": {},
   "outputs": [],
   "source": [
    "t and (not f)"
   ]
  },
  {
   "cell_type": "code",
   "execution_count": null,
   "metadata": {},
   "outputs": [],
   "source": [
    "(not t) or f"
   ]
  },
  {
   "cell_type": "markdown",
   "metadata": {},
   "source": [
    "## 5.赋值语句\n",
    "Python的赋值语句通过赋值符“=”实现，用赋值符将右边数据对象与左边的变量名建立了引用关系，其一般使用方法如下，尖括号的内容表示具体使用时需要替代：\n",
    "                  ` <变量> =<表达式>`\n",
    "Python还支持连续赋值、同步赋值和复合赋值。\n",
    "\n"
   ]
  },
  {
   "cell_type": "markdown",
   "metadata": {},
   "source": [
    "### （1）连续赋值"
   ]
  },
  {
   "cell_type": "code",
   "execution_count": null,
   "metadata": {},
   "outputs": [],
   "source": [
    "a=b=c=0\n",
    "a,b,c"
   ]
  },
  {
   "cell_type": "markdown",
   "metadata": {},
   "source": [
    "### （2）同步赋值"
   ]
  },
  {
   "cell_type": "code",
   "execution_count": null,
   "metadata": {},
   "outputs": [],
   "source": [
    "#输入x，y\n",
    "x,y=int(input(\"x=\")),int(input(\"y=\"))\n",
    "x,y"
   ]
  },
  {
   "cell_type": "code",
   "execution_count": null,
   "metadata": {},
   "outputs": [],
   "source": [
    "#交换x,y\n",
    "x,y=y,x\n",
    "x,y"
   ]
  },
  {
   "cell_type": "markdown",
   "metadata": {},
   "source": [
    "### (3)复合赋值  \n"
   ]
  },
  {
   "cell_type": "code",
   "execution_count": null,
   "metadata": {},
   "outputs": [],
   "source": [
    "i=1\n",
    "i=i+1\n",
    "i"
   ]
  },
  {
   "cell_type": "code",
   "execution_count": null,
   "metadata": {},
   "outputs": [],
   "source": [
    "i+=1\n",
    "i"
   ]
  },
  {
   "cell_type": "markdown",
   "metadata": {},
   "source": [
    "类似的还有 -= *= /= %= **= //= 这一组赋值操作符的变体，与 += 同理。"
   ]
  },
  {
   "cell_type": "markdown",
   "metadata": {},
   "source": [
    "## 练习"
   ]
  },
  {
   "cell_type": "markdown",
   "metadata": {},
   "source": [
    "1.执行完下面数值表达式语句后，变量a~k的值分别是多少？\n",
    "```python  \n",
    "a=5\n",
    "b=2\n",
    "a*=b\n",
    "b+=a\n",
    "a,b=b,a\n",
    "c=6\n",
    "d= c%2+(c+1)%2\n",
    "e =2.5\n",
    "f=3.5\n",
    "g=(a+b)%3+int(f)//int(e)\n",
    "h=float(a+b)%3+int(f)//int(e)\n",
    "i=(a+b)/3+f%e\n",
    "j=a<b and c<d\n",
    "k=not j and True\n",
    "```"
   ]
  },
  {
   "cell_type": "code",
   "execution_count": null,
   "metadata": {},
   "outputs": [],
   "source": []
  },
  {
   "cell_type": "markdown",
   "metadata": {},
   "source": [
    "2.条件表达式  \n",
    "假设执行了如下语句  \n",
    "```python  \n",
    "x=384  \n",
    "a,b=2.56769, 2.56789\n",
    "```\n",
    "写出下面条件判断语句，并测试结果。  \n",
    "（1）判断x是否是奇数；                                         \n",
    "（2）判断x是否能被3和5整除；                                  \n",
    "（3）判断x是否能被3或5整除；                                  \n",
    "（4）判断b与a的差值不超过0.0001。                              \n"
   ]
  },
  {
   "cell_type": "markdown",
   "metadata": {},
   "source": [
    "## 6.字符串  \n",
    "在Python语言程序设计中，字符串是最常用的数据类型之一。  \n"
   ]
  },
  {
   "cell_type": "markdown",
   "metadata": {},
   "source": [
    "### （1）字符串值\n",
    "Python 里字符串值（*string literal*）可以用单引号、双引号、三个单引号或三个双引号来表示，主要区别是：\n",
    "* 单引号里面可以包含双引号字符；\n",
    "* 双引号里面可以包含单引号字符；\n",
    "* 三个引号括起来的可以包含多行文字。"
   ]
  },
  {
   "cell_type": "code",
   "execution_count": null,
   "metadata": {},
   "outputs": [],
   "source": [
    "'用单引号括起来的字符串里不能直接包含单引号，但可以有\"双引号\"'"
   ]
  },
  {
   "cell_type": "code",
   "execution_count": null,
   "metadata": {},
   "outputs": [],
   "source": [
    "\"用双引号括起来的字符串里不能直接包含双引号，但可以有'单引号'\""
   ]
  },
  {
   "cell_type": "code",
   "execution_count": null,
   "metadata": {},
   "outputs": [],
   "source": [
    "\"中文的引号其实是另外的字符，总是可以包含的”“‘’\""
   ]
  },
  {
   "cell_type": "code",
   "execution_count": 1,
   "metadata": {},
   "outputs": [
    {
     "data": {
      "text/plain": [
       "'三个单或者双引号可以包含多行文字\\n就像这样'"
      ]
     },
     "execution_count": 1,
     "metadata": {},
     "output_type": "execute_result"
    }
   ],
   "source": [
    "'''三个单或者双引号可以包含多行文字\n",
    "就像这样'''"
   ]
  },
  {
   "cell_type": "markdown",
   "metadata": {},
   "source": [
    "转义符 \\n 代表一个特殊字符，也就是 ASCII 里的换行（LF, linefeed）符；"
   ]
  },
  {
   "cell_type": "code",
   "execution_count": 2,
   "metadata": {},
   "outputs": [
    {
     "name": "stdout",
     "output_type": "stream",
     "text": [
      "三个单或者双引号可以包含多行文字\n",
      "就像这样\n"
     ]
    }
   ],
   "source": [
    "print('''三个单或者双引号可以包含多行文字\n",
    "就像这样''')"
   ]
  },
  {
   "cell_type": "code",
   "execution_count": 3,
   "metadata": {},
   "outputs": [
    {
     "name": "stdout",
     "output_type": "stream",
     "text": [
      "其实多行文字并没有什么特别\n",
      "像这样插入一个换行字符也能实现\n"
     ]
    }
   ],
   "source": [
    "print('其实多行文字并没有什么特别\\n像这样插入一个换行字符也能实现')"
   ]
  },
  {
   "cell_type": "markdown",
   "metadata": {},
   "source": [
    "## （2）组装字符串：f-string"
   ]
  },
  {
   "cell_type": "markdown",
   "metadata": {},
   "source": [
    "我们写程序的时候经常要干的一件事是动态的攒一个字符串出来，里面有固定的文字，但是特定位置上要出现某些我们算出来的值。比如我们计算了一个题目，最后输出一句话，通常想写成这样：\n",
    "\n",
    "`计算完毕，获胜概率为 x%，败北概率为 y%，平局概率为 (100-x-y)%。`\n",
    "\n",
    "我们当然可以用很笨的拼装办法比如："
   ]
  },
  {
   "cell_type": "code",
   "execution_count": null,
   "metadata": {},
   "outputs": [],
   "source": [
    "x = 62\n",
    "y = 29\n",
    "print('计算完毕，获胜概率为 ' + str(x) + '%，败北概率为 ' + str(y) + '%，平局概率为 ' + str(100-x-y) + '%。')"
   ]
  },
  {
   "cell_type": "markdown",
   "metadata": {},
   "source": [
    "这样的代码又难看又难维护，所以很多编程语言都提供了“参数化字符串”的方案，在 Python 3 里是所谓的 *f-string*，就是在字符串前面加一个小写的 `f`，下面是例子："
   ]
  },
  {
   "cell_type": "code",
   "execution_count": 4,
   "metadata": {},
   "outputs": [
    {
     "name": "stdout",
     "output_type": "stream",
     "text": [
      "计算完毕，获胜概率为 62%，败北概率为 29%，平局概率为 9%。\n"
     ]
    }
   ],
   "source": [
    "x = 62\n",
    "y = 29\n",
    "print(f'计算完毕，获胜概率为 {x}%，败北概率为 {y}%，平局概率为 {100-x-y}%。')"
   ]
  },
  {
   "cell_type": "markdown",
   "metadata": {},
   "source": [
    "这和上面的笨办法输出完全一样。所谓 *f-string* 就是一个字符串前面加个字母 f，也就是 `f'...'` 或者 `f\"...\"` 这样的。这样的字符串里可以用一对大括号括起来任何合法的表达式，这个表达式会被计算，并用结果替换 `{表达式}`。在上面的例子中，`{x}` 会用 `x` 的值 62 替换，`{y}` 会用 `y` 的值 29 替换，`{100-x-y}` 会用 `100-x-y` 的值 9 替换，最后就得到了我们想要的结果。\n",
    "\n",
    "这个方案是不是漂亮多了呢？"
   ]
  },
  {
   "cell_type": "code",
   "execution_count": 6,
   "metadata": {},
   "outputs": [
    {
     "name": "stdout",
     "output_type": "stream",
     "text": [
      "计算完毕，获胜概率为 61.20%，败北概率为 28.51%，平局概率为 10.29%。\n"
     ]
    }
   ],
   "source": [
    "x = 61.196\n",
    "y = 28.511\n",
    "print(f'计算完毕，获胜概率为 {x:.2f}%，败北概率为 {y:.2f}%，平局概率为 {100-x-y:.2f}%。')"
   ]
  },
  {
   "cell_type": "markdown",
   "metadata": {},
   "source": [
    "在花括号中还可以设置输出的格式，{:.2f}表示小数点保留两位的float值。"
   ]
  },
  {
   "cell_type": "markdown",
   "metadata": {},
   "source": [
    "## （2）字符串运算  \n"
   ]
  },
  {
   "cell_type": "code",
   "execution_count": null,
   "metadata": {},
   "outputs": [],
   "source": [
    "hello = 'hello'\n",
    "world = \"world\""
   ]
  },
  {
   "cell_type": "code",
   "execution_count": null,
   "metadata": {},
   "outputs": [],
   "source": [
    "# 可以用操作符 + 来串接字符串\n",
    "hw = hello + ' ' + world + '!'\n",
    "print(hw)"
   ]
  },
  {
   "cell_type": "code",
   "execution_count": null,
   "metadata": {},
   "outputs": [],
   "source": [
    "#可以用操作符*来赋值字符串\n",
    "hc = hello * 3\n",
    "print(hc)"
   ]
  },
  {
   "cell_type": "code",
   "execution_count": null,
   "metadata": {},
   "outputs": [],
   "source": [
    "## "
   ]
  },
  {
   "cell_type": "markdown",
   "metadata": {},
   "source": [
    "## 6.输入与输出"
   ]
  },
  {
   "cell_type": "markdown",
   "metadata": {},
   "source": [
    "### (1) 输入语句"
   ]
  },
  {
   "cell_type": "code",
   "execution_count": null,
   "metadata": {},
   "outputs": [],
   "source": [
    "#输入字符串\n",
    "s=input(\"请输入：\")\n",
    "s"
   ]
  },
  {
   "cell_type": "code",
   "execution_count": null,
   "metadata": {},
   "outputs": [],
   "source": [
    "#输入数值数据，要数据类型转换\n",
    "n=int(input(\"请输入一个整数：\"))\n",
    "n"
   ]
  },
  {
   "cell_type": "code",
   "execution_count": null,
   "metadata": {},
   "outputs": [],
   "source": [
    "x=float(input(\"请输入一个浮点数：\"))\n",
    "x"
   ]
  },
  {
   "cell_type": "markdown",
   "metadata": {},
   "source": [
    "### （2）输出语句"
   ]
  },
  {
   "cell_type": "code",
   "execution_count": null,
   "metadata": {},
   "outputs": [],
   "source": [
    "#输出一个字符串\n",
    "print(\"Hello,Python!\")"
   ]
  },
  {
   "cell_type": "code",
   "execution_count": null,
   "metadata": {},
   "outputs": [],
   "source": [
    "#输出一个变量的值\n",
    "x,y=10,20\n",
    "print(x)"
   ]
  },
  {
   "cell_type": "code",
   "execution_count": null,
   "metadata": {},
   "outputs": [],
   "source": [
    "#输出一个表达式的值\n",
    "print(x+y)"
   ]
  },
  {
   "cell_type": "code",
   "execution_count": null,
   "metadata": {},
   "outputs": [],
   "source": [
    "#输出多个数据值，每个数据之间以空格分隔。\n",
    "print(\"x=\",x,\"y=\",y)\n",
    "print(\"x+y=\",x+y)"
   ]
  },
  {
   "cell_type": "code",
   "execution_count": null,
   "metadata": {},
   "outputs": [],
   "source": [
    "#f格式串输出\n",
    "x,y=74.5,13.8\n",
    "print(f\"{x} / {y} = {x/y}\")\n",
    "print(f\"{x:6.2f} / {y:6.2f} = {x/y:6.2f}\")"
   ]
  },
  {
   "cell_type": "markdown",
   "metadata": {},
   "source": [
    "# 案例：求解BMI问题(1)  计算BMI值（顺序结构）"
   ]
  },
  {
   "attachments": {
    "image.png": {
     "image/png": "[encoded data removed]"
    }
   },
   "cell_type": "markdown",
   "metadata": {},
   "source": [
    "BMI指数（即身体质量指数，英文为Body Mass Index，简称BMI），是反应体内脂肪总量的指标，BMI指数的计算方法如下图所示。\n",
    "![image.png](attachment:image.png)  \n",
    "该指标考虑了体重和身高两个因素，比单一按体重衡量人体胖瘦程度以及是否健康更加客观准确。例如：一个人的身高为1.75米,体重为70千克，他的BMI=70/(1.75*1.75)=22.86。  \n"
   ]
  },
  {
   "cell_type": "markdown",
   "metadata": {},
   "source": [
    "编写程序，根据体重和身高计算BMI值。该问题的IPO描述如下：\n",
    "输入：身高和体重\n",
    "处理：计算 BMI = 体重(kg) ÷ 身高2(m2)\n",
    "输出：BMI值\n"
   ]
  },
  {
   "cell_type": "markdown",
   "metadata": {},
   "source": [
    "本例是一个典型的IPO问题，分三步，顺序执行每一个步骤。每一个算法无论简单复杂，都是一个顺序结构的算法，体现了程序从上至下，逐条执行的执行顺序。  算法描述\n",
    "1 输入身高height和体重weight\n",
    "2 计算BMI = weight / (height**2)\n",
    "3 输出BMI\n",
    "\n"
   ]
  },
  {
   "cell_type": "code",
   "execution_count": null,
   "metadata": {},
   "outputs": [],
   "source": [
    "height = float(input(\"请输入你的身高(m):\"))\n",
    "weight = float(input(\"请输入你的体重(kg):\"))\n",
    "value = weight / pow(height, 2)\n",
    "print(f\"你的BMI指数为{value:.2f}\")"
   ]
  },
  {
   "cell_type": "markdown",
   "metadata": {},
   "source": [
    "说明：\n",
    "input函数的作用是从控制台接收用户输入，接受的是一个字符串数据。  \n",
    "float函数的作用是将接受的字符串转化为浮点数。通过赋值语句，将数据对象赋值给变量height和weight。  \n",
    "input函数中的字符串是输入时的提示文字，提示用户需要输入的数据内容。  \n",
    "第三条语句的右边是一个算术表达式，它通过变量weight和height计算出BMI指数。再赋值给左边的变量value。pow()函数是一个数学函数，用来求x的n次方，例如pow(height, 2)计算身高height的平方。   \n",
    "print()函数输出最后的输出结果。  \n",
    "\n"
   ]
  },
  {
   "cell_type": "raw",
   "metadata": {},
   "source": [
    "请思考在哪些情况下，程序会运行出错？\n",
    "以下提示可供读者参考：\n",
    "1. 输入一些非数值型的数据，例如字符串。\n",
    "2. 输入一些特殊的数据，例如身高是0。\n",
    "3. 输入很大的数据，例如100万、1000万、1亿、10亿...（你是否发现使用Python的好处了？）\n",
    "4. 不输入数据，直接按回车。\n",
    "现阶段似乎还不能解决部分输入问题和数据类型不符问题，但是随着学习的深入，我们就会掌握足够的知识去处理这些异常。\n"
   ]
  }
 ],
 "metadata": {
  "kernelspec": {
   "display_name": "Python 3",
   "language": "python",
   "name": "python3"
  },
  "language_info": {
   "codemirror_mode": {
    "name": "ipython",
    "version": 3
   },
   "file_extension": ".py",
   "mimetype": "text/x-python",
   "name": "python",
   "nbconvert_exporter": "python",
   "pygments_lexer": "ipython3",
   "version": "3.7.10"
  }
 },
 "nbformat": 4,
 "nbformat_minor": 4
}
